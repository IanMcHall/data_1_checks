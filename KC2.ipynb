{
 "cells": [
  {
   "cell_type": "code",
   "execution_count": null,
   "metadata": {},
   "outputs": [],
   "source": [
    "import pandas as pd\n",
    "import matplotlib as mpl\n",
    "import matplotlib.pyplot as plt\n",
    "import numpy as np\n",
    "\n",
    "df = pd.read_excel('assets/FinancialSample.xlsx')\n",
    "\n",
    "#Shows only country and units sold. Comma indicates that we only want these two specific columns. : = all rows includ\n",
    "country_and_units = df.loc[:,['Country','Units Sold',' Sales']]\n",
    "\n",
    "#Defines that we only want information about Canada.\n",
    "desired_data = country_and_units.loc[country_and_units['Country'] == 'Canada']\n",
    "\n",
    "#print(desired_data)\n",
    "\n",
    "#define graph [x-axis], [y-axis]\n",
    "plt.plot([1, 2, 3, 4], [1, 4, 9, 16], 'ro')\n",
    "\n",
    "#[x-min, x-max, y-min, y-max]\n",
    "plt.axis([0,6,0,20])\n",
    "\n",
    "#define y-axis label\n",
    "plt.ylabel('test numers')\n",
    "#define x-axis label\n",
    "plt.xlabel('test numbers 2')\n",
    "plt.show()"
   ]
  },
  {
   "cell_type": "code",
   "execution_count": 86,
   "metadata": {},
   "outputs": [
    {
     "name": "stdout",
     "output_type": "stream",
     "text": [
      "            Segment                   Country    Product Discount Band  \\\n",
      "359      Government                    Canada      Paseo        Medium   \n",
      "278      Government  United States of America  Carretera        Medium   \n",
      "88       Government                   Germany        VTT           Low   \n",
      "615      Government                   Germany  Carretera          High   \n",
      "622      Government                   Germany        VTT          High   \n",
      "..              ...                       ...        ...           ...   \n",
      "140      Government                   Germany   Amarilla           Low   \n",
      "546  Small Business  United States of America      Paseo          High   \n",
      "423  Small Business                    Canada       Velo        Medium   \n",
      "405  Small Business                    Canada    Montana        Medium   \n",
      "192      Government  United States of America      Paseo           Low   \n",
      "\n",
      "     Units Sold  Manufacturing Price  Sale Price  Gross Sales  Discounts  \\\n",
      "359       257.0                   10           7       1799.0     143.92   \n",
      "278       263.0                    3           7       1841.0     110.46   \n",
      "88        263.0                  250           7       1841.0      18.41   \n",
      "615       280.0                    3           7       1960.0     274.40   \n",
      "622       280.0                  250           7       1960.0     274.40   \n",
      "..          ...                  ...         ...          ...        ...   \n",
      "140      2966.0                  260         350    1038100.0   20762.00   \n",
      "546      3495.0                   10         300    1048500.0  125820.00   \n",
      "423      3793.5                  120         300    1138050.0  102424.50   \n",
      "405      3802.5                    5         300    1140750.0  102667.50   \n",
      "192      3450.0                   10         350    1207500.0   48300.00   \n",
      "\n",
      "          Sales      COGS     Profit       Date  Month Number Month Name  Year  \n",
      "359     1655.08    1285.0     370.08 2014-05-01             5        May  2014  \n",
      "278     1730.54    1315.0     415.54 2013-11-01            11   November  2013  \n",
      "88      1822.59    1315.0     507.59 2014-03-01             3      March  2014  \n",
      "615     1685.60    1400.0     285.60 2014-12-01            12   December  2014  \n",
      "622     1685.60    1400.0     285.60 2014-12-01            12   December  2014  \n",
      "..          ...       ...        ...        ...           ...        ...   ...  \n",
      "140  1017338.00  771160.0  246178.00 2013-10-01            10    October  2013  \n",
      "546   922680.00  873750.0   48930.00 2014-01-01             1    January  2014  \n",
      "423  1035625.50  948375.0   87250.50 2014-07-01             7       July  2014  \n",
      "405  1038082.50  950625.0   87457.50 2014-04-01             4      April  2014  \n",
      "192  1159200.00  897000.0  262200.00 2014-07-01             7       July  2014  \n",
      "\n",
      "[700 rows x 16 columns]\n"
     ]
    }
   ],
   "source": [
    "#shows number of rows and columns in data set\n",
    "df.shape\n",
    "\n",
    "#cells are off by two in the sheet\n",
    "sorted_by_gross = df.sort_values(['Gross Sales'], ascending=True)\n",
    "\n",
    "print(sorted_by_gross)\n"
   ]
  },
  {
   "cell_type": "code",
   "execution_count": null,
   "metadata": {},
   "outputs": [],
   "source": [
    "desired_data = df.groupby(['Country']).sum()\n",
    "\n",
    "print(desired_data)\n",
    "\n",
    "desired_data.groupby('Country')['Units Sold'].plot(kind = 'bar')\n",
    "\n",
    "#desired_data.plot(x='Country', y='Units Sold', kind=\"bar\")"
   ]
  },
  {
   "cell_type": "code",
   "execution_count": null,
   "metadata": {},
   "outputs": [],
   "source": [
    "df = pd.read_excel('assets/FinancialSample.xlsx')\n",
    "\n",
    "county = df.groupby(df['Country'])\n",
    "#monthly_expense = df.groupby(df['TRANSACTION_DATE'].dt.strftime('%B'))['TOTAL_AMOUNT_SPENT($)'].sum().sort_values()"
   ]
  }
 ],
 "metadata": {
  "kernelspec": {
   "display_name": "Python 3.9.12 ('base')",
   "language": "python",
   "name": "python3"
  },
  "language_info": {
   "codemirror_mode": {
    "name": "ipython",
    "version": 3
   },
   "file_extension": ".py",
   "mimetype": "text/x-python",
   "name": "python",
   "nbconvert_exporter": "python",
   "pygments_lexer": "ipython3",
   "version": "3.9.12"
  },
  "orig_nbformat": 4,
  "vscode": {
   "interpreter": {
    "hash": "60f78043bbc06f254484683f8c6fcf07dae89b2254033de805bd0a1d9cd42796"
   }
  }
 },
 "nbformat": 4,
 "nbformat_minor": 2
}
