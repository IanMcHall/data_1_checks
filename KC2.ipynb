{
 "cells": [
  {
   "cell_type": "code",
   "execution_count": 8,
   "metadata": {},
   "outputs": [],
   "source": [
    "import pandas as pd\n",
    "import matplotlib as mpl\n",
    "import matplotlib.pyplot as plt\n",
    "import numpy as np\n",
    "\n",
    "df = pd.read_excel('assets/FinancialSample.xlsx')\n",
    "\n",
    "#Shows only country and units sold. Comma indicates that we only want these two specific columns. : = all rows includ\n",
    "country_and_units = df.loc[:,['Country','Units Sold','Sales']]\n"
   ]
  },
  {
   "cell_type": "code",
   "execution_count": 9,
   "metadata": {},
   "outputs": [
    {
     "data": {
      "text/plain": [
       "Country\n",
       "Canada                      AxesSubplot(0.125,0.125;0.775x0.755)\n",
       "France                      AxesSubplot(0.125,0.125;0.775x0.755)\n",
       "Germany                     AxesSubplot(0.125,0.125;0.775x0.755)\n",
       "Mexico                      AxesSubplot(0.125,0.125;0.775x0.755)\n",
       "United States of America    AxesSubplot(0.125,0.125;0.775x0.755)\n",
       "Name: Units Sold, dtype: object"
      ]
     },
     "execution_count": 9,
     "metadata": {},
     "output_type": "execute_result"
    },
    {
     "data": {
      "image/png": "[encoded data removed]",
      "text/plain": [
       "<Figure size 432x288 with 1 Axes>"
      ]
     },
     "metadata": {
      "needs_background": "light"
     },
     "output_type": "display_data"
    }
   ],
   "source": [
    "desired_data.groupby('Country')['Units Sold'].plot(kind = 'bar')"
   ]
  }
 ],
 "metadata": {
  "kernelspec": {
   "display_name": "Python 3.9.12 ('base')",
   "language": "python",
   "name": "python3"
  },
  "language_info": {
   "codemirror_mode": {
    "name": "ipython",
    "version": 3
   },
   "file_extension": ".py",
   "mimetype": "text/x-python",
   "name": "python",
   "nbconvert_exporter": "python",
   "pygments_lexer": "ipython3",
   "version": "3.9.12"
  },
  "orig_nbformat": 4,
  "vscode": {
   "interpreter": {
    "hash": "60f78043bbc06f254484683f8c6fcf07dae89b2254033de805bd0a1d9cd42796"
   }
  }
 },
 "nbformat": 4,
 "nbformat_minor": 2
}
